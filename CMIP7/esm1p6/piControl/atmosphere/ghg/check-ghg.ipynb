{
 "cells": [
  {
   "cell_type": "code",
   "execution_count": 1,
   "id": "db8939f8-d450-48cb-ab4e-ad1ebd585196",
   "metadata": {},
   "outputs": [],
   "source": [
    "# Import all dependencies\n",
    "\n",
    "import numpy as np\n",
    "import os\n",
    "from netCDF4 import Dataset\n",
    "from numpy import sum "
   ]
  },
  {
   "cell_type": "code",
   "execution_count": 2,
   "id": "0d07763c-b6ad-407e-9dff-850a6a1d3a33",
   "metadata": {},
   "outputs": [],
   "source": [
    "def year1850_mmr(ghg_path, molar_mass, species):\n",
    "    \"\"\"\n",
    "    Use the CMIP7 dataset for the given species\n",
    "    to calculate the mass mixing ratio.\n",
    "    \"\"\"\n",
    "    def scale(ghg_set, species):\n",
    "        \"\"\"\n",
    "        Determine the scaling factor used for the given species\n",
    "        \"\"\"\n",
    "        SCALE_LOOKUP = {\n",
    "            \"ppm\": 1.0e-6,\n",
    "            \"ppb\": 1.0e-9,\n",
    "            \"ppt\": 1.0e-12}\n",
    "        return SCALE_LOOKUP[ghg_set.variables[species].units]\n",
    "    \n",
    "    # Read in the CMIP7 dataset\n",
    "    ghg_set = Dataset(ghg_path(species), mode=\"r\")\n",
    "\n",
    "    # Initialize the times array\n",
    "    times = np.array(ghg_set[\"time\"][:])\n",
    "\n",
    "    # Find the index of the times array corresponding to the year 1850\n",
    "    YEAR1850 = 182.5\n",
    "    YEAR1850_INDEX = times.searchsorted(YEAR1850)\n",
    "    assert times[YEAR1850_INDEX] == YEAR1850\n",
    "\n",
    "    # Read in the concentration for the year 1850\n",
    "    ghg_conc = np.array(ghg_set[species][:])\n",
    "    year1850_ghg_conc = ghg_conc[YEAR1850_INDEX]\n",
    "\n",
    "    # Determine the mass mixing ratio\n",
    "    DRY_AIR_MOLAR_MASS = 28.97\n",
    "    species_scale = scale(ghg_set, species)\n",
    "    return year1850_ghg_conc * species_scale * molar_mass[species] / DRY_AIR_MOLAR_MASS"
   ]
  },
  {
   "cell_type": "code",
   "execution_count": 3,
   "id": "9334aa1d-9df6-4e39-b3ca-d37ee64a321d",
   "metadata": {},
   "outputs": [],
   "source": [
    "# Specify the CMIP7 dataset relative to species\n",
    "\n",
    "INPUT4MIPS_DIR = \"/g/data/qv56/replicas/input4MIPs\"\n",
    "GHG_FILE = lambda species: f\"CMIP7/CMIP/CR/CR-CMIP-1-0-0/atmos/yr/{species}/gm/v20250228/{species}_input4MIPs_GHGConcentrations_CMIP_CR-CMIP-1-0-0_gm_1750-2022.nc\"\n",
    "GHG_PATH = lambda species: os.path.join(INPUT4MIPS_DIR, GHG_FILE(species))"
   ]
  },
  {
   "cell_type": "code",
   "execution_count": 4,
   "id": "a61ff03f-4167-4965-b9f6-1d218f144b27",
   "metadata": {},
   "outputs": [],
   "source": [
    "# Specify the molar mass of each species in grams per mole\n",
    "\n",
    "MOLAR_MASS_LOOKUP = {\n",
    "    \"co2\": 44.01,\n",
    "    \"n2o\": 44.01,\n",
    "    \"ch4\": 16.04,\n",
    "    \"cfc11\": 137.37,\n",
    "    \"cfc12\": 120.91,\n",
    "    \"cfc113\": 187.375,\n",
    "    \"hcfc22\": 86.47,\n",
    "    \"hfc125\": 120.02,\n",
    "    \"hfc134a\": 102.03}"
   ]
  },
  {
   "cell_type": "code",
   "execution_count": 5,
   "id": "6e0dfa99-b998-4d9d-9fba-072c7c20cb9c",
   "metadata": {},
   "outputs": [
    {
     "name": "stdout",
     "output_type": "stream",
     "text": [
      "co2     : 4.318924e-04\n",
      "n2o     : 4.125577e-07\n",
      "ch4     : 4.422761e-07\n",
      "cfc11   : 0.000000e+00\n",
      "cfc12   : 0.000000e+00\n",
      "cfc113  : 0.000000e+00\n",
      "hcfc22  : 0.000000e+00\n",
      "hfc125  : 0.000000e+00\n",
      "hfc134a : 0.000000e+00\n"
     ]
    }
   ],
   "source": [
    "for species in MOLAR_MASS_LOOKUP.keys():\n",
    "    species_mmr = year1850_mmr(GHG_PATH, MOLAR_MASS_LOOKUP, species)\n",
    "    print(f\"{species:8}: {species_mmr:12.6e}\")"
   ]
  },
  {
   "cell_type": "code",
   "execution_count": null,
   "id": "e36af988-ffa5-4cde-864b-a214c33d6206",
   "metadata": {},
   "outputs": [],
   "source": []
  }
 ],
 "metadata": {
  "kernelspec": {
   "display_name": "Python [conda env:analysis3-24.07] *",
   "language": "python",
   "name": "conda-env-analysis3-24.07-py"
  },
  "language_info": {
   "codemirror_mode": {
    "name": "ipython",
    "version": 3
   },
   "file_extension": ".py",
   "mimetype": "text/x-python",
   "name": "python",
   "nbconvert_exporter": "python",
   "pygments_lexer": "ipython3",
   "version": "3.10.16"
  }
 },
 "nbformat": 4,
 "nbformat_minor": 5
}
