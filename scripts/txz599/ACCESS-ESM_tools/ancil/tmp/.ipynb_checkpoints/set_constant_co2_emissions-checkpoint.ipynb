{
 "cells": [
  {
   "cell_type": "code",
   "execution_count": 22,
   "id": "76cfedba-5a5a-4153-b444-913791157b70",
   "metadata": {},
   "outputs": [],
   "source": [
    "import mule\n",
    "import xarray as xr\n",
    "import os"
   ]
  },
  {
   "cell_type": "code",
   "execution_count": 23,
   "id": "0ee56c9c-e052-426e-8533-83a7a9d82cfa",
   "metadata": {},
   "outputs": [],
   "source": [
    "data = xr.open_dataset('/g/data/p66/txz599/ACCESS-ESM_tools/ancil/tmp/co2_new.nc')"
   ]
  },
  {
   "cell_type": "code",
   "execution_count": 24,
   "id": "c9a4e018-f1a2-42ab-90cb-1b93018b162c",
   "metadata": {},
   "outputs": [],
   "source": [
    "# 10 GtC/yr constant emissions, globally homogenous\n",
    "# 10 GtC/yr = 36.7 GtCO2/yr = 36.7e12 kgCO2/yr\n",
    "# yr to s : 60*60*24*365\n",
    "# emissions field required in kgCO2/m2/s\n",
    "\n",
    "yr2s = 60*60*24*365.25 # s\n",
    "earea = 510e12 # m2\n",
    "\n",
    "co2emissions = 10 * 3.67 * 1e12 / yr2s / earea\n",
    "\n"
   ]
  },
  {
   "cell_type": "code",
   "execution_count": 25,
   "id": "eca3f887-e7d1-4ffd-95ae-10f0b1730f31",
   "metadata": {},
   "outputs": [
    {
     "data": {
      "text/plain": [
       "2.2802996524997303e-09"
      ]
     },
     "execution_count": 25,
     "metadata": {},
     "output_type": "execute_result"
    }
   ],
   "source": [
    "co2emissions"
   ]
  },
  {
   "cell_type": "code",
   "execution_count": 26,
   "id": "8073eb5f-8375-4dbc-8bd1-fc7b9da7291f",
   "metadata": {},
   "outputs": [],
   "source": [
    "data.co2emiss[:,:,:] = co2emissions\n"
   ]
  },
  {
   "cell_type": "code",
   "execution_count": 27,
   "id": "611c029e-c71c-4b64-8ca6-312612b0d9c4",
   "metadata": {},
   "outputs": [],
   "source": [
    "data.to_netcdf('/g/data/p66/txz599/ACCESS-ESM_tools/ancil/tmp/co2_modified_new.nc')"
   ]
  },
  {
   "cell_type": "code",
   "execution_count": null,
   "id": "072e7f5d-6cd4-4b30-9099-5d34defc1598",
   "metadata": {},
   "outputs": [],
   "source": []
  },
  {
   "cell_type": "code",
   "execution_count": null,
   "id": "d5584d56-7a0d-418a-8676-f4e139a134b3",
   "metadata": {},
   "outputs": [],
   "source": []
  },
  {
   "cell_type": "code",
   "execution_count": null,
   "id": "b1fbc8a6-a189-450c-8732-67ed9e096b16",
   "metadata": {},
   "outputs": [],
   "source": []
  },
  {
   "cell_type": "code",
   "execution_count": null,
   "id": "2adba1f6-4b2c-4771-8134-c65cc156caf4",
   "metadata": {},
   "outputs": [],
   "source": []
  },
  {
   "cell_type": "code",
   "execution_count": null,
   "id": "37e7fc91-df10-4e33-a3ad-1b92c09e0d19",
   "metadata": {},
   "outputs": [],
   "source": []
  },
  {
   "cell_type": "code",
   "execution_count": null,
   "id": "bc7fb983-5ee4-499b-bf1d-fb2cc2ce9d22",
   "metadata": {},
   "outputs": [],
   "source": []
  },
  {
   "cell_type": "code",
   "execution_count": null,
   "id": "06a1e21f-8620-4860-a7b9-b0bb8282b274",
   "metadata": {},
   "outputs": [],
   "source": []
  },
  {
   "cell_type": "code",
   "execution_count": null,
   "id": "cd1eca16-12b2-4bfd-ad28-094517302b9f",
   "metadata": {},
   "outputs": [],
   "source": []
  },
  {
   "cell_type": "code",
   "execution_count": null,
   "id": "d9b21524-4ef0-4fd9-b759-03b7d6d065b4",
   "metadata": {},
   "outputs": [],
   "source": []
  },
  {
   "cell_type": "code",
   "execution_count": null,
   "id": "f8080c74-9034-46cd-99f6-f17f7b0abfd3",
   "metadata": {},
   "outputs": [],
   "source": []
  },
  {
   "cell_type": "code",
   "execution_count": null,
   "id": "a79727e4-afda-4e61-897c-8166ba19de79",
   "metadata": {},
   "outputs": [],
   "source": []
  },
  {
   "cell_type": "code",
   "execution_count": null,
   "id": "48e87323-1716-4a42-bfd2-61e19b1f59a1",
   "metadata": {},
   "outputs": [],
   "source": []
  },
  {
   "cell_type": "code",
   "execution_count": null,
   "id": "cca0d294-2667-446b-85cf-3eb991d384aa",
   "metadata": {},
   "outputs": [],
   "source": []
  },
  {
   "cell_type": "code",
   "execution_count": null,
   "id": "e90ccfcc-e317-4121-8d90-0c91b3ec7287",
   "metadata": {},
   "outputs": [],
   "source": []
  },
  {
   "cell_type": "code",
   "execution_count": null,
   "id": "b138690d-52f3-4fe9-9215-a0f1d083be8c",
   "metadata": {},
   "outputs": [],
   "source": []
  },
  {
   "cell_type": "code",
   "execution_count": null,
   "id": "2dd671d9-f6b1-473f-b8f8-64951ef55cda",
   "metadata": {},
   "outputs": [],
   "source": []
  },
  {
   "cell_type": "code",
   "execution_count": null,
   "id": "75b0b9fe-f261-4937-acc4-8712d8802b7e",
   "metadata": {},
   "outputs": [],
   "source": []
  },
  {
   "cell_type": "code",
   "execution_count": null,
   "id": "16940fb4-681a-4211-8ed6-98b73cbb58a2",
   "metadata": {},
   "outputs": [],
   "source": []
  },
  {
   "cell_type": "code",
   "execution_count": null,
   "id": "f2ce7970-a24a-46ba-ad6f-d4625bb24e09",
   "metadata": {},
   "outputs": [],
   "source": []
  },
  {
   "cell_type": "code",
   "execution_count": null,
   "id": "0dde0523-c61c-4645-82e8-d698a4593623",
   "metadata": {},
   "outputs": [],
   "source": []
  },
  {
   "cell_type": "code",
   "execution_count": null,
   "id": "abf64a9b-a2c9-4bb1-91dc-c6566d8940ad",
   "metadata": {},
   "outputs": [],
   "source": []
  },
  {
   "cell_type": "code",
   "execution_count": null,
   "id": "e8e0f173-1ac7-48da-88aa-9d0ecf49d8d0",
   "metadata": {},
   "outputs": [],
   "source": []
  },
  {
   "cell_type": "code",
   "execution_count": null,
   "id": "fb3999dd-48b2-4c27-9c05-158d68d575a6",
   "metadata": {},
   "outputs": [],
   "source": []
  },
  {
   "cell_type": "code",
   "execution_count": null,
   "id": "e9d6663e-1207-404f-b818-338f4827c761",
   "metadata": {},
   "outputs": [],
   "source": []
  }
 ],
 "metadata": {
  "kernelspec": {
   "display_name": "Python [conda env:analysis3-23.04] *",
   "language": "python",
   "name": "conda-env-analysis3-23.04-py"
  },
  "language_info": {
   "codemirror_mode": {
    "name": "ipython",
    "version": 3
   },
   "file_extension": ".py",
   "mimetype": "text/x-python",
   "name": "python",
   "nbconvert_exporter": "python",
   "pygments_lexer": "ipython3",
   "version": "3.9.17"
  }
 },
 "nbformat": 4,
 "nbformat_minor": 5
}
