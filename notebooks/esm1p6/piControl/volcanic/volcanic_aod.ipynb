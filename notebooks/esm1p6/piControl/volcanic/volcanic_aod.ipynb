{
 "cells": [
  {
   "cell_type": "code",
   "execution_count": 1,
   "metadata": {},
   "outputs": [
    {
     "ename": "ModuleNotFoundError",
     "evalue": "No module named 'xarray_tools'",
     "output_type": "error",
     "traceback": [
      "\u001b[0;31m---------------------------------------------------------------------------\u001b[0m",
      "\u001b[0;31mModuleNotFoundError\u001b[0m                       Traceback (most recent call last)",
      "\u001b[0;32m/jobfs/138470919.gadi-pbs/ipykernel_1082550/3591970516.py\u001b[0m in \u001b[0;36m<cell line: 3>\u001b[0;34m()\u001b[0m\n\u001b[1;32m      1\u001b[0m \u001b[0;32mimport\u001b[0m \u001b[0mxarray\u001b[0m \u001b[0;32mas\u001b[0m \u001b[0mxr\u001b[0m\u001b[0;34m\u001b[0m\u001b[0;34m\u001b[0m\u001b[0m\n\u001b[1;32m      2\u001b[0m \u001b[0;32mimport\u001b[0m \u001b[0mmatplotlib\u001b[0m\u001b[0;34m.\u001b[0m\u001b[0mpyplot\u001b[0m \u001b[0;32mas\u001b[0m \u001b[0mplt\u001b[0m\u001b[0;34m\u001b[0m\u001b[0;34m\u001b[0m\u001b[0m\n\u001b[0;32m----> 3\u001b[0;31m \u001b[0;32mimport\u001b[0m \u001b[0mxarray_tools\u001b[0m \u001b[0;32mas\u001b[0m \u001b[0mxrt\u001b[0m\u001b[0;34m\u001b[0m\u001b[0;34m\u001b[0m\u001b[0m\n\u001b[0m\u001b[1;32m      4\u001b[0m \u001b[0;32mimport\u001b[0m \u001b[0mcf_units\u001b[0m\u001b[0;34m,\u001b[0m \u001b[0mdatetime\u001b[0m\u001b[0;34m\u001b[0m\u001b[0;34m\u001b[0m\u001b[0m\n\u001b[1;32m      5\u001b[0m \u001b[0;32mimport\u001b[0m \u001b[0mnumpy\u001b[0m \u001b[0;32mas\u001b[0m \u001b[0mnp\u001b[0m\u001b[0;34m\u001b[0m\u001b[0;34m\u001b[0m\u001b[0m\n",
      "\u001b[0;31mModuleNotFoundError\u001b[0m: No module named 'xarray_tools'"
     ]
    }
   ],
   "source": [
    "import xarray as xr\n",
    "import matplotlib.pyplot as plt\n",
    "import xarray_tools as xrt\n",
    "import cf_units, datetime\n",
    "import numpy as np"
   ]
  },
  {
   "cell_type": "code",
   "execution_count": null,
   "metadata": {},
   "outputs": [],
   "source": [
    "d = xr.open_dataset('/g/data/qv56/replicas/input4MIPs/CMIP7/CMIP/uoexeter/UOEXETER-CMIP-2-0-0/atmos/mon/ext/gnz/v20250227/ext_input4MIPs_aerosolProperties_CMIP_UOEXETER-CMIP-2-0-0_gnz_175001-202312.nc')"
   ]
  },
  {
   "cell_type": "code",
   "execution_count": null,
   "metadata": {},
   "outputs": [],
   "source": [
    "w550 = 7\n",
    "\n",
    "lat_wts = np.diff(np.sin(np.radians(d.lat_bnds)), axis=1)\n",
    "lat_wts.shape = (len(d.lat),)\n",
    "lat_wts /= lat_wts.sum()"
   ]
  },
  {
   "cell_type": "code",
   "execution_count": null,
   "metadata": {},
   "outputs": [],
   "source": [
    "ext_g = (d.ext[:,:,:,w550] * lat_wts[:, np.newaxis]).sum('lat')"
   ]
  },
  {
   "cell_type": "code",
   "execution_count": null,
   "metadata": {},
   "outputs": [],
   "source": [
    "fig = plt.figure(figsize=(10,4))\n",
    "axes = fig.add_subplot(1,1,1)\n",
    "(1000*ext_g[1200:]).plot(cmap='Reds', x='time', vmax=0.01)\n",
    "axes.set_ylabel('Height')"
   ]
  },
  {
   "cell_type": "code",
   "execution_count": null,
   "metadata": {},
   "outputs": [],
   "source": [
    "d113 = xr.open_dataset('/g/data/qv56/replicas/input4MIPs/CMIP6Plus/CMIP/uoexeter/UOEXETER-CMIP-1-1-3/atmos/mon/ext/gnz/v20240903/ext_input4MIPs_aerosolProperties_CMIP_UOEXETER-CMIP-1-1-3_gnz_175001-202312.nc')"
   ]
  },
  {
   "cell_type": "code",
   "execution_count": null,
   "metadata": {},
   "outputs": [],
   "source": [
    "# Note different wavelength\n",
    "ext113_g = (d113.ext[:,:,:,9] * lat_wts[:, np.newaxis]).sum('lat')"
   ]
  },
  {
   "cell_type": "code",
   "execution_count": null,
   "metadata": {},
   "outputs": [],
   "source": [
    "fig = plt.figure(figsize=(10,8))\n",
    "axes = fig.add_subplot(2,1,1)\n",
    "(1000*ext113_g[1200:]).plot(cmap='Reds', x='time', vmax=0.01, cbar_kwargs={'label':'km$^{-1}$'})\n",
    "axes.set_ylabel('Height')\n",
    "axes.set_title('CMIP6Plus (1-1-3) extinction at 550 nm')\n",
    "axes = fig.add_subplot(2,1,2)\n",
    "(1000*ext_g[1200:]).plot(cmap='Reds', x='time', vmax=0.01, cbar_kwargs={'label':'km$^{-1}$'})\n",
    "axes.set_ylabel('Height')\n",
    "axes.set_title('CMIP7Plus (2-0-0) extinction at 550 nm')\n",
    "plt.tight_layout()"
   ]
  },
  {
   "cell_type": "code",
   "execution_count": null,
   "metadata": {},
   "outputs": [],
   "source": [
    "thick = d.height_bnds[:,1] - d.height_bnds[:,0]"
   ]
  },
  {
   "cell_type": "code",
   "execution_count": null,
   "metadata": {},
   "outputs": [],
   "source": [
    "ext_tot = (ext_g * thick).sum('height')\n",
    "ext_tot_ann = xrt.annual_mean(ext_tot)\n",
    "fig = plt.figure(figsize=(10,4))\n",
    "axes = fig.add_subplot(1,1,1)\n",
    "ext_tot.plot()\n",
    "axes.set_title('Global mean monthly SAOD at 550 nm')\n",
    "axes.set_xlabel('Year')\n",
    "axes.set_ylim(0,0.35)\n",
    "taxis = cf_units.Unit(\"days since 1970-01-01 00:00\", calendar=\"proleptic_gregorian\")\n",
    "t0 = taxis.date2num(datetime.datetime(1750,1,1,0,0,0))\n",
    "t1 = taxis.date2num(datetime.datetime(2022,1,1,0,0,0))\n",
    "print(t0, t1)\n",
    "axes.set_xlim(t0,t1)\n",
    "axes.set_xticks([taxis.date2num(datetime.datetime(y,1,1,0,0,0)) for y in range(1750,2001,50)])"
   ]
  },
  {
   "cell_type": "code",
   "execution_count": null,
   "metadata": {},
   "outputs": [],
   "source": [
    "def total_mean(ds):\n",
    "    \"\"\" Properly month length weighted mean of a DataArray\"\"\"\n",
    "    month_length = ds.time.dt.days_in_month\n",
    "    mean = (ds*month_length).sum(dim='time') / month_length.sum()\n",
    "    return mean"
   ]
  },
  {
   "cell_type": "code",
   "execution_count": null,
   "metadata": {},
   "outputs": [],
   "source": [
    "# PI should use 1850-2021 mean\n",
    "ext_mean = total_mean(ext_tot.sel(time=slice(\"1850-01-01\", \"2021-12-01\")))"
   ]
  },
  {
   "cell_type": "code",
   "execution_count": null,
   "metadata": {},
   "outputs": [],
   "source": [
    "ext_mean"
   ]
  },
  {
   "cell_type": "code",
   "execution_count": null,
   "metadata": {},
   "outputs": [],
   "source": [
    "# Sum over height\n",
    "ext_tot = (d.ext[:,:,:,w550] * thick).sum('height')\n",
    "\n",
    "# Equal area latitude bands used by ESM\n",
    "bands = [slice(30,90), slice(0,30), slice(-30,0), slice(-90,-30)]\n",
    "ext_band = np.zeros((len(ext_tot),4))\n",
    "for b, band in enumerate(bands):\n",
    "    # Factor of 4 for global area / band area\n",
    "    ext_band[:,b] = 4*(ext_tot*lat_wts).sel(lat=band).sum('lat')\n",
    "\n",
    "lat_band = xr.IndexVariable('band', [1,2,3,4])\n",
    "ext_band = xr.DataArray(ext_band, coords=[ext_tot.time, lat_band])"
   ]
  },
  {
   "cell_type": "code",
   "execution_count": null,
   "metadata": {},
   "outputs": [],
   "source": [
    "for b in range(4):\n",
    "    ext_band[1200:,b].plot()\n"
   ]
  },
  {
   "cell_type": "code",
   "execution_count": null,
   "metadata": {},
   "outputs": [],
   "source": [
    "esm_cmip6 = np.loadtxt('/g/data/vk83/experiments/inputs/access-esm1p5/modern/historical/atmosphere/forcing/resolution_independent/2021.06.22/volcts_cmip6.dat')\n",
    "esm_cmip6_od = esm_cmip6[:,2:].mean(axis=1)\n",
    "\n",
    "esm_cmip6_time = esm_cmip6[:,0] + esm_cmip6[:,1]/12.\n",
    "fig, axes = plt.subplots()\n",
    "plt.plot(esm_cmip6_time,esm_cmip6_od*1e-4,label='ESM1.5 CMIP6')\n",
    "axes.set_title('Optical depth')\n",
    "\n",
    "od_cmip7 = ext_band[1200:].mean('band')\n",
    "plt.plot(esm_cmip6_time[:len(od_cmip7)], od_cmip7, label='CMIP7')\n",
    "\n",
    "axes.set_xlim(1850,2015)\n",
    "axes.set_ylim(0,0.18)\n",
    "axes.legend()"
   ]
  },
  {
   "cell_type": "code",
   "execution_count": null,
   "metadata": {},
   "outputs": [],
   "source": [
    "ext_band"
   ]
  },
  {
   "cell_type": "code",
   "execution_count": null,
   "metadata": {},
   "outputs": [],
   "source": [
    "ext_mean = total_mean(ext_tot.sel(time=slice(\"1850-01-01\", \"2021-12-01\")))\n",
    "ext_mean_band = total_mean(ext_band.sel(time=slice(\"1850-01-01\", \"2021-12-01\")))"
   ]
  },
  {
   "cell_type": "code",
   "execution_count": null,
   "metadata": {},
   "outputs": [],
   "source": [
    "print(ext_mean_band.values)\n",
    "print(ext_mean_band.mean())"
   ]
  },
  {
   "cell_type": "code",
   "execution_count": null,
   "metadata": {},
   "outputs": [],
   "source": [
    "ext_mean.plot()"
   ]
  },
  {
   "cell_type": "code",
   "execution_count": null,
   "metadata": {},
   "outputs": [],
   "source": []
  }
 ],
 "metadata": {
  "kernelspec": {
   "display_name": "Python [conda env:analysis3-22.04]",
   "language": "python",
   "name": "conda-env-analysis3-22.04-py"
  },
  "language_info": {
   "codemirror_mode": {
    "name": "ipython",
    "version": 3
   },
   "file_extension": ".py",
   "mimetype": "text/x-python",
   "name": "python",
   "nbconvert_exporter": "python",
   "pygments_lexer": "ipython3",
   "version": "3.9.13"
  }
 },
 "nbformat": 4,
 "nbformat_minor": 4
}
