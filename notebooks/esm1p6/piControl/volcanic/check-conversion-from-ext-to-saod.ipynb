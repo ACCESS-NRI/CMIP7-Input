{
 "cells": [
  {
   "cell_type": "code",
   "execution_count": 1,
   "id": "db8939f8-d450-48cb-ab4e-ad1ebd585196",
   "metadata": {},
   "outputs": [],
   "source": [
    "# Import all dependencies\n",
    "\n",
    "import numpy as np\n",
    "import os\n",
    "from netCDF4 import Dataset\n",
    "from numpy import sum "
   ]
  },
  {
   "cell_type": "code",
   "execution_count": 2,
   "id": "9334aa1d-9df6-4e39-b3ca-d37ee64a321d",
   "metadata": {},
   "outputs": [],
   "source": [
    "# Specify the CMIP7 dataset\n",
    "\n",
    "INPUT4MIPS_DIR = \"/g/data/qv56/replicas/input4MIPs\"\n",
    "EXT_FILE = \"CMIP7/CMIP/uoexeter/UOEXETER-CMIP-2-0-0/atmos/monC/ext/gnz/v20250227/ext_input4MIPs_aerosolProperties_CMIP_UOEXETER-CMIP-2-0-0_gnz_185001-202112-clim.nc\"\n",
    "EXT_PATH = os.path.join(INPUT4MIPS_DIR, EXT_FILE)"
   ]
  },
  {
   "cell_type": "code",
   "execution_count": 3,
   "id": "bec97d74-e625-492a-8ad8-c0af5f9e529c",
   "metadata": {},
   "outputs": [],
   "source": [
    "# Read in the CMIP7 dataset\n",
    "\n",
    "ext_set = Dataset(EXT_PATH, mode=\"r\")"
   ]
  },
  {
   "cell_type": "code",
   "execution_count": 4,
   "id": "67606c0c-0234-4a54-8d30-52102d639c86",
   "metadata": {},
   "outputs": [],
   "source": [
    "# Check that we have 12 months of data\n",
    "\n",
    "times = ext_set[\"time\"][:]\n",
    "MONTHS = 12.0\n",
    "assert len(times) == MONTHS"
   ]
  },
  {
   "cell_type": "code",
   "execution_count": 5,
   "id": "aa624bb7-b7c1-47c7-959f-d94efbd52785",
   "metadata": {},
   "outputs": [],
   "source": [
    "# Create weights corresponding to the proportion of days in each month\n",
    "MONTH_WEIGHTS = np.array([31, 28.2425, 31, 30, 31, 30, 31, 31, 30, 31, 30, 31]) / 365.2425\n",
    "assert(sum(MONTH_WEIGHTS) == 1.0)"
   ]
  },
  {
   "cell_type": "code",
   "execution_count": 6,
   "id": "100ea6ed-e142-47c0-be7a-110571fc9a91",
   "metadata": {},
   "outputs": [],
   "source": [
    "# Check that the difference between latitudes is 5 degrees\n",
    "\n",
    "lats = ext_set[\"lat\"][:]\n",
    "LAT_DIFF = 5.0\n",
    "for j in range(1, len(lats)):\n",
    "    assert lats[j] - lats[j-1] == LAT_DIFF"
   ]
  },
  {
   "cell_type": "code",
   "execution_count": 7,
   "id": "7adfc86f-d173-44c1-9abe-3998958be853",
   "metadata": {},
   "outputs": [],
   "source": [
    "# Check that the height of every atmospheric layer is 500 metres\n",
    "\n",
    "heights = ext_set[\"height\"][:]\n",
    "LAYER_HEIGHT = 500.0\n",
    "for j in range(1, len(heights)):\n",
    "    assert heights[j] - heights[j-1] == LAYER_HEIGHT"
   ]
  },
  {
   "cell_type": "code",
   "execution_count": 8,
   "id": "a237ad78-42a0-4dd7-b196-c7d763e1b501",
   "metadata": {},
   "outputs": [],
   "source": [
    "# Check that wavelength[7] is 550 nm as prescribed\n",
    "\n",
    "wavelengths = ext_set[\"wavelength\"][:]\n",
    "WAVELENGTH = 550.0 * 1e-9\n",
    "WAVELENGTH_INDEX = wavelengths.searchsorted([WAVELENGTH])\n",
    "assert wavelengths[WAVELENGTH_INDEX] == WAVELENGTH"
   ]
  },
  {
   "cell_type": "code",
   "execution_count": 9,
   "id": "2adf05fd-fdfc-4ba6-9845-882cb371cd22",
   "metadata": {},
   "outputs": [],
   "source": [
    "# Create weights corresponding to the relative area of each latitude band\n",
    "\n",
    "sindeg = lambda t: np.sin(np.radians(t))\n",
    "lat_weights = [(sindeg(lat + LAT_DIFF / 2.0) - sindeg(lat - LAT_DIFF / 2.0)) / 2.0 for lat in lats]\n",
    "assert sum(lat_weights) == 1.0"
   ]
  },
  {
   "cell_type": "code",
   "execution_count": 10,
   "id": "69589eb3-62d5-475b-8983-3e3a7db0bc4b",
   "metadata": {},
   "outputs": [],
   "source": [
    "# Select the ext values for the prescribed wavelength\n",
    "\n",
    "ext_var = ext_set[\"ext\"]\n",
    "exts_at_wl = np.nan_to_num(ext_var[:, :, :, WAVELENGTH_INDEX]).reshape(np.shape(ext_var)[:-1])"
   ]
  },
  {
   "cell_type": "code",
   "execution_count": 11,
   "id": "5f0c18e1-8840-4998-ae14-05abc2f8447b",
   "metadata": {},
   "outputs": [],
   "source": [
    "# Calculate the saod values for each month and latitude band by quadrature of ext over the heights of the atmosphere layers \n",
    "\n",
    "ext_dims = ext_var.dimensions\n",
    "EXT_HEIGHT_AXIS = ext_dims.index(\"height\")\n",
    "saods_at_wl = sum(exts_at_wl, axis=EXT_HEIGHT_AXIS) * LAYER_HEIGHT"
   ]
  },
  {
   "cell_type": "code",
   "execution_count": 12,
   "id": "ba25796e-20e6-4a2b-ae50-66f5df2b4ca5",
   "metadata": {},
   "outputs": [],
   "source": [
    "# Take the time average of the saod values for each latitude band\n",
    "\n",
    "weighted_saod_at_each_lat = np.dot(MONTH_WEIGHTS, saods_at_wl)"
   ]
  },
  {
   "cell_type": "code",
   "execution_count": 13,
   "id": "60c24f18-f42e-4c1c-b315-ed2b9bd58f1b",
   "metadata": {},
   "outputs": [
    {
     "name": "stdout",
     "output_type": "stream",
     "text": [
      "0.014116564638800556\n"
     ]
    }
   ],
   "source": [
    "# Calculate the average saod by weighting by the relative area of each latitude band\n",
    "\n",
    "weighted_saod = np.dot(lat_weights, weighted_saod_at_each_lat)\n",
    "print(weighted_saod)"
   ]
  },
  {
   "cell_type": "code",
   "execution_count": 14,
   "id": "5a2d928c-0371-45e3-88b1-8e84a824c31b",
   "metadata": {},
   "outputs": [
    {
     "name": "stdout",
     "output_type": "stream",
     "text": [
      "0.01587605431569429\n"
     ]
    }
   ],
   "source": [
    "# Calculate the naive average saod value by equally wighting each latitude band\n",
    "\n",
    "avg_saod = sum(weighted_saod_at_each_lat) / len(lats)\n",
    "print(avg_saod)"
   ]
  },
  {
   "cell_type": "code",
   "execution_count": null,
   "id": "6e0dfa99-b998-4d9d-9fba-072c7c20cb9c",
   "metadata": {},
   "outputs": [],
   "source": []
  }
 ],
 "metadata": {
  "kernelspec": {
   "display_name": "Python [conda env:analysis3-24.07] *",
   "language": "python",
   "name": "conda-env-analysis3-24.07-py"
  },
  "language_info": {
   "codemirror_mode": {
    "name": "ipython",
    "version": 3
   },
   "file_extension": ".py",
   "mimetype": "text/x-python",
   "name": "python",
   "nbconvert_exporter": "python",
   "pygments_lexer": "ipython3",
   "version": "3.10.16"
  }
 },
 "nbformat": 4,
 "nbformat_minor": 5
}
