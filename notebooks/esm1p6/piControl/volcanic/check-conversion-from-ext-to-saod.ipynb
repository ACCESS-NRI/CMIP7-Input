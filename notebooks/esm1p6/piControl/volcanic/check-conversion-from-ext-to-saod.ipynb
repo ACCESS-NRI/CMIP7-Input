{
 "cells": [
  {
   "cell_type": "code",
   "execution_count": 37,
   "id": "9208e59f-3ddb-4d1c-b35a-afc005b190be",
   "metadata": {},
   "outputs": [
    {
     "name": "stdout",
     "output_type": "stream",
     "text": [
      "VOLCTS_val = 141.17\n"
     ]
    }
   ],
   "source": [
    "# Import all dependencies\n",
    "\n",
    "import numpy as np\n",
    "import os\n",
    "from netCDF4 import Dataset\n",
    "from numpy import sum \n",
    "\n",
    "def average_stratospheric_aerosol_optical_depth(dataset_path):\n",
    "    \"\"\"\n",
    "    Calculate the average stratospheric optical depth (SAOD) by integrating extinction over\n",
    "    stratospheric layers, and then averaging over time and latitude.\n",
    "    \"\"\"\n",
    "    # Read in the CMIP7 dataset\n",
    "    ext_set = Dataset(dataset_path, mode=\"r\")\n",
    "    \n",
    "    # Find WAVELENGTH_INDEX in wavelength such that wavelength[WAVELENGTH_INDEX] is 550 nm as prescribed\n",
    "    wavelengths = ext_set[\"wavelength\"][:]\n",
    "    WAVELENGTH = 550.0 * 1e-9\n",
    "    WAVELENGTH_INDEX = wavelengths.searchsorted([WAVELENGTH])\n",
    "    assert wavelengths[WAVELENGTH_INDEX] == WAVELENGTH\n",
    "    \n",
    "    # Select the ext values for the prescribed wavelength 550 nm, setting all NaN values to 0\n",
    "    ext_var = ext_set[\"ext\"]\n",
    "    exts_at_wl = np.nan_to_num(ext_var[:, :, :, WAVELENGTH_INDEX]).reshape(np.shape(ext_var)[:-1])\n",
    "    \n",
    "    # Calculate the thickness of each atmospheric layer\n",
    "    height_bnds = ext_set[\"height_bnds\"][:]\n",
    "    height_diffs = height_bnds[:,1] - height_bnds[:,0]\n",
    "    \n",
    "    # Calculate the SAOD values for each month and latitude band by quadrature of ext over the heights of the atmosphere layers \n",
    "    ext_dims = ext_var.dimensions\n",
    "    EXT_HEIGHT_AXIS = ext_dims.index(\"height\")\n",
    "    \n",
    "    # The dot product works because height is the last axis\n",
    "    saods_at_wl = np.ma.dot(exts_at_wl, height_diffs)\n",
    "    \n",
    "    # Create weights corresponding to the proportion of days in each month of the year\n",
    "    times = np.ma.append(ext_set[\"time\"][:],[365])\n",
    "    month_days = np.diff(times)\n",
    "    MONTH_WEIGHTS = np.array(month_days) / sum(month_days)\n",
    "    assert len(MONTH_WEIGHTS) == 12\n",
    "    \n",
    "    # Take the time average of the saod values for each latitude band\n",
    "    weighted_saod_at_each_lat = np.ma.dot(MONTH_WEIGHTS, saods_at_wl)\n",
    "    \n",
    "    # Calculate the difference between latitudes\n",
    "    lats = ext_set[\"lat\"][:]\n",
    "    lat_bnds = ext_set[\"lat_bnds\"][:]\n",
    "    lat_diffs = lat_bnds[:,1] - lat_bnds[:,0]\n",
    "    \n",
    "    # Create weights corresponding to the relative area of each latitude band\n",
    "    sindeg = lambda t: np.sin(np.radians(t))\n",
    "    lat_weights = [(sindeg(lats[k] + lat_diffs[k] / 2.0) - sindeg(lats[k] - lat_diffs[k] / 2.0)) / 2.0 for k in range(len(lats))]\n",
    "    assert sum(lat_weights) == 1.0\n",
    "    \n",
    "    # Calculate the average SAOD by weighting by the relative area of each latitude band\n",
    "    return np.ma.dot(lat_weights, weighted_saod_at_each_lat)\n",
    "\n",
    "\n",
    "# Specify the CMIP7 dataset\n",
    "\n",
    "INPUT4MIPS_DIR = \"/g/data/qv56/replicas/input4MIPs\"\n",
    "EXT_FILE = \"CMIP7/CMIP/uoexeter/UOEXETER-CMIP-2-0-0/atmos/monC/ext/gnz/v20250227/ext_input4MIPs_aerosolProperties_CMIP_UOEXETER-CMIP-2-0-0_gnz_185001-202112-clim.nc\"\n",
    "EXT_PATH = os.path.join(INPUT4MIPS_DIR, EXT_FILE)\n",
    "\n",
    "# Calculate and print the SAOD\n",
    "volcts_val = average_stratospheric_aerosol_optical_depth(EXT_PATH) * 1.0e4\n",
    "print(f'VOLCTS_val = {volcts_val:.2f}')"
   ]
  },
  {
   "cell_type": "code",
   "execution_count": null,
   "id": "6e0dfa99-b998-4d9d-9fba-072c7c20cb9c",
   "metadata": {},
   "outputs": [],
   "source": []
  }
 ],
 "metadata": {
  "kernelspec": {
   "display_name": "Python [conda env:analysis3-24.07] *",
   "language": "python",
   "name": "conda-env-analysis3-24.07-py"
  },
  "language_info": {
   "codemirror_mode": {
    "name": "ipython",
    "version": 3
   },
   "file_extension": ".py",
   "mimetype": "text/x-python",
   "name": "python",
   "nbconvert_exporter": "python",
   "pygments_lexer": "ipython3",
   "version": "3.10.16"
  }
 },
 "nbformat": 4,
 "nbformat_minor": 5
}
