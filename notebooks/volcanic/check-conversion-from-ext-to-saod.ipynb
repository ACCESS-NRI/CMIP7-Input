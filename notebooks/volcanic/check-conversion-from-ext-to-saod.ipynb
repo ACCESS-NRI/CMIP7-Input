{
 "cells": [
  {
   "cell_type": "code",
   "execution_count": 1,
   "id": "db8939f8-d450-48cb-ab4e-ad1ebd585196",
   "metadata": {},
   "outputs": [],
   "source": [
    "# Import all dependencies\n",
    "\n",
    "import os\n",
    "\n",
    "from netCDF4 import Dataset\n",
    "\n",
    "from numpy import multiply, nan_to_num, pi, sin, shape, sum "
   ]
  },
  {
   "cell_type": "code",
   "execution_count": 2,
   "id": "9334aa1d-9df6-4e39-b3ca-d37ee64a321d",
   "metadata": {},
   "outputs": [],
   "source": [
    "# Specify the CMIP7 dataset\n",
    "\n",
    "INPUT4MIPS_DIR = \"/g/data/qv56/replicas/input4MIPs\"\n",
    "\n",
    "EXT_FILE = \"CMIP7/CMIP/uoexeter/UOEXETER-CMIP-2-0-0/atmos/monC/ext/gnz/v20250227/ext_input4MIPs_aerosolProperties_CMIP_UOEXETER-CMIP-2-0-0_gnz_185001-202112-clim.nc\"\n",
    "\n",
    "EXT_PATH = os.path.join(INPUT4MIPS_DIR, EXT_FILE)"
   ]
  },
  {
   "cell_type": "code",
   "execution_count": 3,
   "id": "bec97d74-e625-492a-8ad8-c0af5f9e529c",
   "metadata": {},
   "outputs": [],
   "source": [
    "# Read in the CMIP7 dataset\n",
    "\n",
    "ext_set = Dataset(EXT_PATH, mode=\"r\")\n",
    "\n",
    "ext_dims = ext_set[\"ext\"].dimensions"
   ]
  },
  {
   "cell_type": "code",
   "execution_count": 4,
   "id": "6b06c0b7-4fb6-4059-8f23-ee431eedf6f0",
   "metadata": {},
   "outputs": [
    {
     "name": "stdout",
     "output_type": "stream",
     "text": [
      "('time', 'lat', 'height', 'wavelength')\n"
     ]
    }
   ],
   "source": [
    "print(ext_dims)"
   ]
  },
  {
   "cell_type": "code",
   "execution_count": 5,
   "id": "67606c0c-0234-4a54-8d30-52102d639c86",
   "metadata": {},
   "outputs": [],
   "source": [
    "# Check that we have 12 months of data\n",
    "\n",
    "times = ext_set[\"time\"][:]\n",
    "\n",
    "MONTHS = 12.0\n",
    "\n",
    "assert len(times) == MONTHS"
   ]
  },
  {
   "cell_type": "code",
   "execution_count": 6,
   "id": "100ea6ed-e142-47c0-be7a-110571fc9a91",
   "metadata": {},
   "outputs": [],
   "source": [
    "# Check that the difference between latitudes is 5 degrees\n",
    "\n",
    "lats = ext_set[\"lat\"][:]\n",
    "\n",
    "LAT_DIFF = 5.0\n",
    "\n",
    "for j in range(1, len(lats)):\n",
    "    assert lats[j] - lats[j-1] == LAT_DIFF"
   ]
  },
  {
   "cell_type": "code",
   "execution_count": 7,
   "id": "7adfc86f-d173-44c1-9abe-3998958be853",
   "metadata": {},
   "outputs": [],
   "source": [
    "# Check that the height of every atmospheric layer is 500 metres\n",
    "\n",
    "heights = ext_set[\"height\"][:]\n",
    "\n",
    "LAYER_HEIGHT = 500.0\n",
    "\n",
    "for j in range(1, len(heights)):\n",
    "    assert heights[j] - heights[j-1] == LAYER_HEIGHT"
   ]
  },
  {
   "cell_type": "code",
   "execution_count": 8,
   "id": "a237ad78-42a0-4dd7-b196-c7d763e1b501",
   "metadata": {},
   "outputs": [],
   "source": [
    "# Check that wavelength[7] is 550 nm as prescribed\n",
    "\n",
    "wavelengths = ext_set[\"wavelength\"][:]\n",
    "\n",
    "WAVELENGTH = 550.0 * 1e-9\n",
    "\n",
    "WAVELENGTH_INDEX = wavelengths.searchsorted([WAVELENGTH])\n",
    "\n",
    "assert wavelengths[WAVELENGTH_INDEX] == WAVELENGTH"
   ]
  },
  {
   "cell_type": "code",
   "execution_count": 9,
   "id": "2adf05fd-fdfc-4ba6-9845-882cb371cd22",
   "metadata": {},
   "outputs": [],
   "source": [
    "# Create weights corresponding to the relative area of each latitude band\n",
    "\n",
    "sindeg = lambda t: sin(t * pi / 180.0)\n",
    "\n",
    "weights = [(sindeg(lat + LAT_DIFF / 2.0) - sindeg(lat - LAT_DIFF / 2.0)) / 2.0 for lat in lats]\n",
    "\n",
    "assert sum(weights) == 1.0"
   ]
  },
  {
   "cell_type": "code",
   "execution_count": 10,
   "id": "98dffb5c-2c1c-41ad-9946-cf31cf53ee0e",
   "metadata": {},
   "outputs": [],
   "source": [
    "# Define the height index that represents the top of the troposphere\n",
    "\n",
    "TROPOSPHERE_INDEX = 0"
   ]
  },
  {
   "cell_type": "code",
   "execution_count": 11,
   "id": "69589eb3-62d5-475b-8983-3e3a7db0bc4b",
   "metadata": {},
   "outputs": [],
   "source": [
    "# Select the ext values for the prescribed wavelength\n",
    "\n",
    "exts_at_wl = nan_to_num(ext_set[\"ext\"][:, :, TROPOSPHERE_INDEX:, WAVELENGTH_INDEX])"
   ]
  },
  {
   "cell_type": "code",
   "execution_count": 12,
   "id": "5f0c18e1-8840-4998-ae14-05abc2f8447b",
   "metadata": {},
   "outputs": [],
   "source": [
    "# Calculate the saod values for each month and latitude band by quadrature of ext over the heights of the atmosphere layers \n",
    "\n",
    "EXT_HEIGHT_AXIS = ext_dims.index(\"height\")\n",
    "\n",
    "saods_at_wl = sum(exts_at_wl, axis=EXT_HEIGHT_AXIS) * LAYER_HEIGHT"
   ]
  },
  {
   "cell_type": "code",
   "execution_count": 13,
   "id": "ba25796e-20e6-4a2b-ae50-66f5df2b4ca5",
   "metadata": {},
   "outputs": [],
   "source": [
    "# Take the time average of the saod values for each latitude band\n",
    "\n",
    "EXT_TIME_AXIS = ext_dims.index(\"time\")\n",
    "\n",
    "time_avg_saods_at_wl = sum(saods_at_wl, axis=EXT_TIME_AXIS) / MONTHS\n",
    "\n",
    "avg_saod_at_each_lat = [s[0] for s in time_avg_saods_at_wl]"
   ]
  },
  {
   "cell_type": "code",
   "execution_count": 14,
   "id": "60c24f18-f42e-4c1c-b315-ed2b9bd58f1b",
   "metadata": {},
   "outputs": [
    {
     "name": "stdout",
     "output_type": "stream",
     "text": [
      "0.014113884327955557\n"
     ]
    }
   ],
   "source": [
    "# Calculate the average saod by weighting by the relative area of each latitude band\n",
    "\n",
    "weighted_saod = sum(multiply(weights, avg_saod_at_each_lat))\n",
    "\n",
    "print(weighted_saod)"
   ]
  },
  {
   "cell_type": "code",
   "execution_count": 15,
   "id": "5a2d928c-0371-45e3-88b1-8e84a824c31b",
   "metadata": {},
   "outputs": [
    {
     "name": "stdout",
     "output_type": "stream",
     "text": [
      "0.015873305407427943\n"
     ]
    }
   ],
   "source": [
    "# Calculate the naive average saod value by equally wighting each latitude band\n",
    "\n",
    "avg_saod = sum(avg_saod_at_each_lat) / len(lats)\n",
    "\n",
    "print(avg_saod)"
   ]
  },
  {
   "cell_type": "code",
   "execution_count": null,
   "id": "3342b31b-875c-4f22-8347-7d5c25b36da8",
   "metadata": {},
   "outputs": [],
   "source": []
  }
 ],
 "metadata": {
  "kernelspec": {
   "display_name": "Python [conda env:analysis3-24.07] *",
   "language": "python",
   "name": "conda-env-analysis3-24.07-py"
  },
  "language_info": {
   "codemirror_mode": {
    "name": "ipython",
    "version": 3
   },
   "file_extension": ".py",
   "mimetype": "text/x-python",
   "name": "python",
   "nbconvert_exporter": "python",
   "pygments_lexer": "ipython3",
   "version": "3.10.16"
  }
 },
 "nbformat": 4,
 "nbformat_minor": 5
}
